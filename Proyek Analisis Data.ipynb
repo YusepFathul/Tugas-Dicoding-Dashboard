{
 "cells": [
  {
   "cell_type": "markdown",
   "metadata": {
    "id": "H9wADwK78DCz"
   },
   "source": [
    "# Proyek Analisis Data: [E-Commerce Public Dataset]\n",
    "- **Nama:** [Yusep Fathul Anwar]\n",
    "- **Email:** [m179b4ky4573@bangkit.academy]\n",
    "- **ID Dicoding:** [yusepfhh]\n"
   ]
  },
  {
   "cell_type": "markdown",
   "metadata": {
    "id": "eE0raob58DC0"
   },
   "source": [
    "## Menentukan Pertanyaan Bisnis"
   ]
  },
  {
   "cell_type": "markdown",
   "metadata": {
    "id": "GmQeQ5YF8DC0"
   },
   "source": [
    "- Pertanyaan 1 = Metode pembayaran mana yang paling sering digunakan oleh pelanggan di marketplace ini?\n",
    "- Pertanyaan 2 = Bagaimana tren pendapatan bulanan di marketplace selama tahun 2017?"
   ]
  },
  {
   "cell_type": "markdown",
   "metadata": {
    "id": "H-z4QGlO8DC1"
   },
   "source": [
    "## Import Semua Packages/Library yang Digunakan"
   ]
  },
  {
   "cell_type": "code",
   "execution_count": 4,
   "metadata": {
    "id": "FVYwaObI8DC1"
   },
   "outputs": [],
   "source": [
    "import pandas as pd\n",
    "import numpy as np\n",
    "import matplotlib.pyplot as plt\n",
    "import seaborn as sns"
   ]
  },
  {
   "cell_type": "markdown",
   "metadata": {
    "id": "h_Sh51Xy8DC1"
   },
   "source": [
    "## Data Wrangling"
   ]
  },
  {
   "cell_type": "markdown",
   "metadata": {
    "id": "sXU2GBYu8DC1"
   },
   "source": [
    "### Gathering Data"
   ]
  },
  {
   "cell_type": "code",
   "execution_count": 5,
   "metadata": {
    "id": "zjCBk1BI8DC1"
   },
   "outputs": [
    {
     "name": "stdout",
     "output_type": "stream",
     "text": [
      "Product Category Translation:\n",
      "    product_category_name product_category_name_english\n",
      "0            beleza_saude                 health_beauty\n",
      "1  informatica_acessorios         computers_accessories\n",
      "2              automotivo                          auto\n",
      "3         cama_mesa_banho                bed_bath_table\n",
      "4        moveis_decoracao               furniture_decor \n",
      "\n",
      "Products:\n",
      "                         product_id  product_category_name  \\\n",
      "0  1e9e8ef04dbcff4541ed26657ea517e5             perfumaria   \n",
      "1  3aa071139cb16b67ca9e5dea641aaa2f                  artes   \n",
      "2  96bd76ec8810374ed1b65e291975717f          esporte_lazer   \n",
      "3  cef67bcfe19066a932b7673e239eb23d                  bebes   \n",
      "4  9dc1a7de274444849c219cff195d0b71  utilidades_domesticas   \n",
      "\n",
      "   product_name_lenght  product_description_lenght  product_photos_qty  \\\n",
      "0                 40.0                       287.0                 1.0   \n",
      "1                 44.0                       276.0                 1.0   \n",
      "2                 46.0                       250.0                 1.0   \n",
      "3                 27.0                       261.0                 1.0   \n",
      "4                 37.0                       402.0                 4.0   \n",
      "\n",
      "   product_weight_g  product_length_cm  product_height_cm  product_width_cm  \n",
      "0             225.0               16.0               10.0              14.0  \n",
      "1            1000.0               30.0               18.0              20.0  \n",
      "2             154.0               18.0                9.0              15.0  \n",
      "3             371.0               26.0                4.0              26.0  \n",
      "4             625.0               20.0               17.0              13.0   \n",
      "\n",
      "Sellers:\n",
      "                          seller_id  seller_zip_code_prefix  \\\n",
      "0  3442f8959a84dea7ee197c632cb2df15                   13023   \n",
      "1  d1b65fc7debc3361ea86b5f14c68d2e2                   13844   \n",
      "2  ce3ad9de960102d0677a81f5d0bb7b2d                   20031   \n",
      "3  c0f3eea2e14555b6faeea3dd58c1b1c3                    4195   \n",
      "4  51a04a8a6bdcb23deccc82b0b80742cf                   12914   \n",
      "\n",
      "         seller_city seller_state  \n",
      "0           campinas           SP  \n",
      "1         mogi guacu           SP  \n",
      "2     rio de janeiro           RJ  \n",
      "3          sao paulo           SP  \n",
      "4  braganca paulista           SP   \n",
      "\n",
      "Order Payments:\n",
      "                           order_id  payment_sequential payment_type  \\\n",
      "0  b81ef226f3fe1789b1e8b2acac839d17                   1  credit_card   \n",
      "1  a9810da82917af2d9aefd1278f1dcfa0                   1  credit_card   \n",
      "2  25e8ea4e93396b6fa0d3dd708e76c1bd                   1  credit_card   \n",
      "3  ba78997921bbcdc1373bb41e913ab953                   1  credit_card   \n",
      "4  42fdf880ba16b47b59251dd489d4441a                   1  credit_card   \n",
      "\n",
      "   payment_installments  payment_value  \n",
      "0                     8          99.33  \n",
      "1                     1          24.39  \n",
      "2                     1          65.71  \n",
      "3                     8         107.78  \n",
      "4                     2         128.45   \n",
      "\n",
      "Order Reviews:\n",
      "                          review_id                          order_id  \\\n",
      "0  7bc2406110b926393aa56f80a40eba40  73fc7af87114b39712e6da79b0a377eb   \n",
      "1  80e641a11e56f04c1ad469d5645fdfde  a548910a1c6147796b98fdf73dbeba33   \n",
      "2  228ce5500dc1d8e020d8d1322874b6f0  f9e4b658b201a9f2ecdecbb34bed034b   \n",
      "3  e64fb393e7b32834bb789ff8bb30750e  658677c97b385a9be170737859d3511b   \n",
      "4  f7c4243c7fe1938f181bec41a392bdeb  8e6bfb81e283fa7e4f11123a3fb894f1   \n",
      "\n",
      "   review_score review_comment_title  \\\n",
      "0             4                  NaN   \n",
      "1             5                  NaN   \n",
      "2             5                  NaN   \n",
      "3             5                  NaN   \n",
      "4             5                  NaN   \n",
      "\n",
      "                              review_comment_message review_creation_date  \\\n",
      "0                                                NaN       1/18/2018 0:00   \n",
      "1                                                NaN       3/10/2018 0:00   \n",
      "2                                                NaN       2/17/2018 0:00   \n",
      "3              Recebi bem antes do prazo estipulado.       4/21/2017 0:00   \n",
      "4  Parabéns lojas lannister adorei comprar pela I...        3/1/2018 0:00   \n",
      "\n",
      "  review_answer_timestamp  \n",
      "0         1/18/2018 21:46  \n",
      "1          3/11/2018 3:05  \n",
      "2         2/18/2018 14:36  \n",
      "3         4/21/2017 22:02  \n",
      "4          3/2/2018 10:26   \n",
      "\n",
      "Orders:\n",
      "                           order_id                       customer_id  \\\n",
      "0  e481f51cbdc54678b7cc49136f2d6af7  9ef432eb6251297304e76186b10a928d   \n",
      "1  53cdb2fc8bc7dce0b6741e2150273451  b0830fb4747a6c6d20dea0b8c802d7ef   \n",
      "2  47770eb9100c2d0c44946d9cf07ec65d  41ce2a54c0b03bf3443c3d931a367089   \n",
      "3  949d5b44dbf5de918fe9c16f97b45f8a  f88197465ea7920adcdbec7375364d82   \n",
      "4  ad21c59c0840e6cb83a9ceb5573f8159  8ab97904e6daea8866dbdbc4fb7aad2c   \n",
      "\n",
      "  order_status order_purchase_timestamp    order_approved_at  \\\n",
      "0    delivered      2017-10-02 10:56:33  2017-10-02 11:07:15   \n",
      "1    delivered      2018-07-24 20:41:37  2018-07-26 03:24:27   \n",
      "2    delivered      2018-08-08 08:38:49  2018-08-08 08:55:23   \n",
      "3    delivered      2017-11-18 19:28:06  2017-11-18 19:45:59   \n",
      "4    delivered      2018-02-13 21:18:39  2018-02-13 22:20:29   \n",
      "\n",
      "  order_delivered_carrier_date order_delivered_customer_date  \\\n",
      "0          2017-10-04 19:55:00           2017-10-10 21:25:13   \n",
      "1          2018-07-26 14:31:00           2018-08-07 15:27:45   \n",
      "2          2018-08-08 13:50:00           2018-08-17 18:06:29   \n",
      "3          2017-11-22 13:39:59           2017-12-02 00:28:42   \n",
      "4          2018-02-14 19:46:34           2018-02-16 18:17:02   \n",
      "\n",
      "  order_estimated_delivery_date  \n",
      "0           2017-10-18 00:00:00  \n",
      "1           2018-08-13 00:00:00  \n",
      "2           2018-09-04 00:00:00  \n",
      "3           2017-12-15 00:00:00  \n",
      "4           2018-02-26 00:00:00   \n",
      "\n",
      "Geolocation Dataset:\n",
      "   geolocation_zip_code_prefix  geolocation_lat  geolocation_lng  \\\n",
      "0                         1037       -23.545621       -46.639292   \n",
      "1                         1046       -23.546081       -46.644820   \n",
      "2                         1046       -23.546129       -46.642951   \n",
      "3                         1041       -23.544392       -46.639499   \n",
      "4                         1035       -23.541578       -46.641607   \n",
      "\n",
      "  geolocation_city geolocation_state  \n",
      "0        sao paulo                SP  \n",
      "1        sao paulo                SP  \n",
      "2        sao paulo                SP  \n",
      "3        sao paulo                SP  \n",
      "4        sao paulo                SP   \n",
      "\n",
      "Order Items:\n",
      "                           order_id  order_item_id  \\\n",
      "0  00010242fe8c5a6d1ba2dd792cb16214              1   \n",
      "1  00018f77f2f0320c557190d7a144bdd3              1   \n",
      "2  000229ec398224ef6ca0657da4fc703e              1   \n",
      "3  00024acbcdf0a6daa1e931b038114c75              1   \n",
      "4  00042b26cf59d7ce69dfabb4e55b4fd9              1   \n",
      "\n",
      "                         product_id                         seller_id  \\\n",
      "0  4244733e06e7ecb4970a6e2683c13e61  48436dade18ac8b2bce089ec2a041202   \n",
      "1  e5f2d52b802189ee658865ca93d83a8f  dd7ddc04e1b6c2c614352b383efe2d36   \n",
      "2  c777355d18b72b67abbeef9df44fd0fd  5b51032eddd242adc84c38acab88f23d   \n",
      "3  7634da152a4610f1595efa32f14722fc  9d7a1d34a5052409006425275ba1c2b4   \n",
      "4  ac6c3623068f30de03045865e4e10089  df560393f3a51e74553ab94004ba5c87   \n",
      "\n",
      "   shipping_limit_date   price  freight_value  \n",
      "0  2017-09-19 09:45:35   58.90          13.29  \n",
      "1  2017-05-03 11:05:13  239.90          19.93  \n",
      "2  2018-01-18 14:48:30  199.00          17.87  \n",
      "3  2018-08-15 10:10:18   12.99          12.79  \n",
      "4  2017-02-13 13:57:51  199.90          18.14   \n",
      "\n",
      "Customers:\n",
      "                        customer_id                customer_unique_id  \\\n",
      "0  06b8999e2fba1a1fbc88172c00ba8bc7  861eff4711a542e4b93843c6dd7febb0   \n",
      "1  18955e83d337fd6b2def6b18a428ac77  290c77bc529b7ac935b93aa66c333dc3   \n",
      "2  4e7b3e00288586ebd08712fdd0374a03  060e732b5b29e8181a18229c7b0b2b5e   \n",
      "3  b2b6027bc5c5109e529d4dc6358b12c3  259dac757896d24d7702b9acbbff3f3c   \n",
      "4  4f2d8ab171c80ec8364f7c12e35b23ad  345ecd01c38d18a9036ed96c73b8d066   \n",
      "\n",
      "   customer_zip_code_prefix          customer_city customer_state  \n",
      "0                     14409                 franca             SP  \n",
      "1                      9790  sao bernardo do campo             SP  \n",
      "2                      1151              sao paulo             SP  \n",
      "3                      8775        mogi das cruzes             SP  \n",
      "4                     13056               campinas             SP   \n",
      "\n"
     ]
    }
   ],
   "source": [
    "product_category_translation = pd.read_csv('product_category_name_translation.csv')\n",
    "products = pd.read_csv('products_dataset.csv')\n",
    "sellers = pd.read_csv('sellers_dataset.csv')\n",
    "order_payments = pd.read_csv('order_payments_dataset.csv')\n",
    "order_reviews_dataset = pd.read_csv('order_reviews_dataset.csv')\n",
    "orders = pd.read_csv('orders_dataset.csv')\n",
    "geolocation = pd.read_csv('geolocation_dataset.csv')\n",
    "order_items = pd.read_csv('order_items_dataset.csv')\n",
    "customers = pd.read_csv('customers_dataset.csv')\n",
    "\n",
    "# Melihat beberapa baris pertama dari setiap DataFrame\n",
    "print(\"Product Category Translation:\")\n",
    "print(product_category_translation.head(), \"\\n\")\n",
    "\n",
    "print(\"Products:\")\n",
    "print(products.head(), \"\\n\")\n",
    "\n",
    "print(\"Sellers:\")\n",
    "print(sellers.head(), \"\\n\")\n",
    "\n",
    "print(\"Order Payments:\")\n",
    "print(order_payments.head(), \"\\n\")\n",
    "\n",
    "print(\"Order Reviews:\")\n",
    "print(order_reviews_dataset.head(), \"\\n\")\n",
    "\n",
    "print(\"Orders:\")\n",
    "print(orders.head(), \"\\n\")\n",
    "\n",
    "print(\"Geolocation Dataset:\")\n",
    "print(geolocation.head(), \"\\n\")\n",
    "\n",
    "print(\"Order Items:\")\n",
    "print(order_items.head(), \"\\n\")\n",
    "\n",
    "print(\"Customers:\")\n",
    "print(customers.head(), \"\\n\")\n"
   ]
  },
  {
   "cell_type": "markdown",
   "metadata": {
    "id": "MMi6xGaDkbCi"
   },
   "source": [
    "**Insight:**\n",
    "\n",
    "- Kategorisasi Produk: Data dari product_category_translation menunjukkan bagaimana produk dikelompokkan dalam kategori yang berbeda. Memahami kategori mana yang paling populer dapat membantu bisnis dalam merencanakan strategi pemasaran dan pengembangan produk.\n",
    "- Data Penjual: Dataset sellers memberikan informasi tentang penjual yang terdaftar di marketplace. Menganalisis kinerja penjual dapat memberikan wawasan tentang siapa yang paling efektif dalam menjual produk dan bagaimana mereka dapat didukung untuk meningkatkan penjualan lebih lanjut.\n",
    "- Metode Pembayaran: Melalui order_payments, kita dapat menganalisis preferensi pelanggan dalam memilih metode pembayaran. Hal ini penting untuk memastikan bahwa metode yang paling banyak digunakan selalu tersedia dan untuk mempertimbangkan penambahan metode baru yang mungkin lebih menarik pelanggan.\n",
    "-  Ulasan Pelanggan: order_reviews_dataset menawarkan wawasan tentang pengalaman pelanggan. Dengan menganalisis sentimen dan ulasan, bisnis dapat mengidentifikasi area yang perlu diperbaiki dan cara meningkatkan kepuasan pelanggan.\n",
    "- Waktu Pemesanan: Melalui orders, kita bisa mendapatkan informasi tentang waktu pemesanan. Ini dapat membantu dalam memahami pola pembelian dan mengoptimalkan persediaan untuk memenuhi permintaan.\n",
    "- Geolokasi: Dataset geolocation memberikan data geografis tentang pelanggan dan penjual. Menganalisis data ini dapat membantu dalam strategi pengiriman dan pemasaran yang lebih tepat sasaran berdasarkan lokasi.\n",
    "- Detail Item Pesanan: order_items mengungkapkan rincian tentang setiap item dalam pesanan, termasuk harga dan kategori produk. Ini membantu dalam menganalisis produk mana yang paling menguntungkan dan mana yang perlu perhatian lebih lanjut dalam hal stok dan promosi.\n",
    "- Profil Pelanggan: Dataset customers memberikan informasi tentang pelanggan, termasuk preferensi dan demografi. Memahami profil pelanggan dapat membantu dalam menciptakan strategi pemasaran yang lebih terarah dan personal.h l.\n",
    "- xxx\n",
    "- xxx"
   ]
  },
  {
   "cell_type": "markdown",
   "metadata": {
    "id": "FHSiqaZp8DC1"
   },
   "source": [
    "### Assessing Data"
   ]
  },
  {
   "cell_type": "code",
   "execution_count": 6,
   "metadata": {
    "id": "ax-3tEjc9Cj1"
   },
   "outputs": [
    {
     "name": "stdout",
     "output_type": "stream",
     "text": [
      "Missing Values di setiap DataFrame:\n",
      "Product Category Translation:\n",
      " product_category_name            0\n",
      "product_category_name_english    0\n",
      "dtype: int64 \n",
      "\n",
      "Products:\n",
      " product_id                      0\n",
      "product_category_name         610\n",
      "product_name_lenght           610\n",
      "product_description_lenght    610\n",
      "product_photos_qty            610\n",
      "product_weight_g                2\n",
      "product_length_cm               2\n",
      "product_height_cm               2\n",
      "product_width_cm                2\n",
      "dtype: int64 \n",
      "\n",
      "Sellers:\n",
      " seller_id                 0\n",
      "seller_zip_code_prefix    0\n",
      "seller_city               0\n",
      "seller_state              0\n",
      "dtype: int64 \n",
      "\n",
      "Order Payments:\n",
      " order_id                0\n",
      "payment_sequential      0\n",
      "payment_type            0\n",
      "payment_installments    0\n",
      "payment_value           0\n",
      "dtype: int64 \n",
      "\n",
      "Orders:\n",
      " order_id                            0\n",
      "customer_id                         0\n",
      "order_status                        0\n",
      "order_purchase_timestamp            0\n",
      "order_approved_at                 160\n",
      "order_delivered_carrier_date     1783\n",
      "order_delivered_customer_date    2965\n",
      "order_estimated_delivery_date       0\n",
      "dtype: int64 \n",
      "\n",
      "Order Items:\n",
      " order_id               0\n",
      "order_item_id          0\n",
      "product_id             0\n",
      "seller_id              0\n",
      "shipping_limit_date    0\n",
      "price                  0\n",
      "freight_value          0\n",
      "dtype: int64 \n",
      "\n",
      "Customers:\n",
      " customer_id                 0\n",
      "customer_unique_id          0\n",
      "customer_zip_code_prefix    0\n",
      "customer_city               0\n",
      "customer_state              0\n",
      "dtype: int64 \n",
      "\n",
      "Order Reviews:\n",
      " review_id                      0\n",
      "order_id                       0\n",
      "review_score                   0\n",
      "review_comment_title       87656\n",
      "review_comment_message     58247\n",
      "review_creation_date           0\n",
      "review_answer_timestamp        0\n",
      "dtype: int64 \n",
      "\n",
      "Geolocation:\n",
      " geolocation_zip_code_prefix    0\n",
      "geolocation_lat                0\n",
      "geolocation_lng                0\n",
      "geolocation_city               0\n",
      "geolocation_state              0\n",
      "dtype: int64 \n",
      "\n"
     ]
    }
   ],
   "source": [
    "# 3. Assessing Data\n",
    "# Memeriksa nilai kosong dalam setiap DataFrame\n",
    "# Menampilkan Missing Values di setiap DataFrame\n",
    "print(\"Missing Values di setiap DataFrame:\")\n",
    "print(\"Product Category Translation:\\n\", product_category_translation.isnull().sum(), \"\\n\")\n",
    "print(\"Products:\\n\", products.isnull().sum(), \"\\n\")\n",
    "print(\"Sellers:\\n\", sellers.isnull().sum(), \"\\n\")\n",
    "print(\"Order Payments:\\n\", order_payments.isnull().sum(), \"\\n\")\n",
    "print(\"Orders:\\n\", orders.isnull().sum(), \"\\n\")\n",
    "print(\"Order Items:\\n\", order_items.isnull().sum(), \"\\n\")\n",
    "print(\"Customers:\\n\", customers.isnull().sum(), \"\\n\")\n",
    "print(\"Order Reviews:\\n\", order_reviews_dataset.isnull().sum(), \"\\n\")\n",
    "print(\"Geolocation:\\n\", geolocation.isnull().sum(), \"\\n\")\n",
    "\n"
   ]
  },
  {
   "cell_type": "code",
   "execution_count": 7,
   "metadata": {
    "id": "sUfNnRYhkzOE"
   },
   "outputs": [
    {
     "name": "stdout",
     "output_type": "stream",
     "text": [
      "Outliers di Order Items - Price:\n",
      "                                order_id  order_item_id  \\\n",
      "7       000576fe39319847cbb9d288c5617fa6              1   \n",
      "39      0017afd5076e074a48f1f1a4c7bac9c5              1   \n",
      "322     00c9474e0334f7a4ffc8c3a8bd21a51e              1   \n",
      "344     00d2559e61b9a0744a0552c35c5ecccb              1   \n",
      "475     011a43bc9bb525517251ebb3ebc99b69              1   \n",
      "...                                  ...            ...   \n",
      "112324  ff2d25d8b1b734099dee10e90e23a2ab              1   \n",
      "112343  ff36cbc44b8f228e0449c92ef089c843              1   \n",
      "112449  ff85c3e4329457e83cb474799a257ccc              1   \n",
      "112557  ffc49b9c9d666410e9ecdb0a3efadb9c              1   \n",
      "112632  fff7c4452f050315db1b3f24d9df5fcd              1   \n",
      "\n",
      "                              product_id                         seller_id  \\\n",
      "7       557d850972a7d6f792fd18ae1400d9b6  5996cddab893a4652a15592fb58ab8db   \n",
      "39      fe59a1e006df3ac42bf0ceb876d70969  25c5c91f63607446a97b143d2d535d31   \n",
      "322     4b2653088591de362e6ba85b4a474c75  610f72e407cdd7caaa2f8167b0163fd8   \n",
      "344     44fc450365728c413fefc547592626be  b839e41795b7f3ad94cc2014a52f6796   \n",
      "475     ca7966fa77959536468be3c6ce1f19e1  610f72e407cdd7caaa2f8167b0163fd8   \n",
      "...                                  ...                               ...   \n",
      "112324  98fe8fcab3c57495e05a61bf5946f2a0  b2ac621f0d0322434d04a12b078b9369   \n",
      "112343  43944a8f8f0b7ae86b6c3d3c2f257375  0adac9fbd9a2b63cccaac4f8756c1ca8   \n",
      "112449  144266e1585320d057797a369596bb8b  850f4f8af5ea87287ac68de36e29107f   \n",
      "112557  f96ff9b997681965689f78bef092fdd9  2a5b78b41cd05baeac8df54c6606b92c   \n",
      "112632  dd469c03ad67e201bc2179ef077dcd48  7e93a43ef30c4f03f38b393420bc753a   \n",
      "\n",
      "        shipping_limit_date    price  freight_value  \n",
      "7       2018-07-10 12:30:45   810.00          70.75  \n",
      "39      2017-04-24 22:25:19   809.10          44.29  \n",
      "322     2018-05-10 15:50:46  1050.61          25.13  \n",
      "344     2018-06-13 12:57:03   849.00          23.52  \n",
      "475     2018-05-03 18:09:38   899.00          21.20  \n",
      "...                     ...      ...            ...  \n",
      "112324  2017-10-17 12:56:16   935.00          31.58  \n",
      "112343  2017-11-30 20:51:36   699.00          57.49  \n",
      "112449  2018-01-24 16:57:45   899.00          17.50  \n",
      "112557  2018-06-05 19:56:23   765.00          27.06  \n",
      "112632  2017-06-07 17:05:23   736.00          20.91  \n",
      "\n",
      "[1966 rows x 7 columns]\n",
      "\n",
      "Outliers di Order Items - Freight Value:\n",
      "                                order_id  order_item_id  \\\n",
      "7       000576fe39319847cbb9d288c5617fa6              1   \n",
      "124     00471463a6106056c1a2a809f70de640              1   \n",
      "162     0066a1fdaee16ad5022c5ef979d0b661              1   \n",
      "186     0078a358a14592b887eb140ef515f5ab              1   \n",
      "313     00c47fefb9a49baec12ab3654d7f548e              1   \n",
      "...                                  ...            ...   \n",
      "112083  fe9fc8eb3ad784aaf13c6788561efe59              1   \n",
      "112233  fefacc66af859508bf1a7934eab1e97f              1   \n",
      "112359  ff3e501f56dcf0752578d86df833558f              1   \n",
      "112450  ff85f6534f8a6b89e27a340dcf86ecac              1   \n",
      "112472  ff96d596c25445650eee60b94fa62244              1   \n",
      "\n",
      "                              product_id                         seller_id  \\\n",
      "7       557d850972a7d6f792fd18ae1400d9b6  5996cddab893a4652a15592fb58ab8db   \n",
      "124     9df0e8a7eef2a38b74e6d5c0e224b11f  7c67e1448b00f6e969d365cea6b010ab   \n",
      "162     2fb0efd1f61f186ffdda9e8ec70f27f2  1d8dbc4f32378d715c717c1c1fc57bae   \n",
      "186     722f84416177a451c3be217ef8ffa082  cca3071e3e9bb7d12640c9fbe2301306   \n",
      "313     f196248e8b5d060cca414a664ea9a76f  91f0eec23d4a61d7d7caeefa3f0ad1ca   \n",
      "...                                  ...                               ...   \n",
      "112083  9041a4cde4a900bc259d3b1b6847f6b1  1025f0e2d44d7041d6cf58b6550e0bfa   \n",
      "112233  69c590f7ffc7bf8db97190b6cb6ed62e  80ceebb4ee9b31afb6c6a916a574a1e2   \n",
      "112359  608af629c5b520efe1caf06e1cfc4abc  5dceca129747e92ff8ef7a997dc4f8ca   \n",
      "112450  e7f85e7f0203b7b95cc1b4c21b4b070c  ceaec5548eefc6e23e6607c5435102e7   \n",
      "112472  f7b30f48c235d715e00822023d8a4dce  7238a95bb63ef7e498389fb863b834a1   \n",
      "\n",
      "        shipping_limit_date    price  freight_value  \n",
      "7       2018-07-10 12:30:45   810.00          70.75  \n",
      "124     2017-10-03 22:46:14   179.99          85.97  \n",
      "162     2018-06-14 20:17:26   139.00          87.28  \n",
      "186     2017-11-10 15:55:43   253.52          82.86  \n",
      "313     2017-12-13 00:18:33   199.00          67.69  \n",
      "...                     ...      ...            ...  \n",
      "112083  2018-08-17 12:44:26   120.00          74.79  \n",
      "112233  2018-08-02 04:05:13  6729.00         193.21  \n",
      "112359  2017-10-27 21:14:33   299.90         170.11  \n",
      "112450  2018-05-14 16:38:18   259.99          84.52  \n",
      "112472  2018-05-04 13:50:07   329.00         127.55  \n",
      "\n",
      "[2041 rows x 7 columns]\n",
      "\n",
      "Outliers di Order Reviews - Review Score:\n",
      "Empty DataFrame\n",
      "Columns: [review_id, order_id, review_score, review_comment_title, review_comment_message, review_creation_date, review_answer_timestamp]\n",
      "Index: []\n",
      "\n",
      "Outliers di Order Payments - Payment Value:\n",
      "                                order_id  payment_sequential payment_type  \\\n",
      "160     886b114d034f4ac1d39d964c1b2a8182                   1  credit_card   \n",
      "167     62d9b911d7c56cf455f660eecb8ddd3a                   1  credit_card   \n",
      "235     f86d7bc39aab05299691322044b63bb2                   1      voucher   \n",
      "247     4ff8e28200e5a7a50b448cfaaf1f8ed3                   1  credit_card   \n",
      "359     ce6d150fb29ada17d2082f4847107665                   1  credit_card   \n",
      "...                                  ...                 ...          ...   \n",
      "103622  b0b0d3285e59abf2f6c9d7e1bf761323                   1  credit_card   \n",
      "103718  fc20b8e282da6f3fbcdd3a3cedecb723                   1  credit_card   \n",
      "103733  fb2dccfadca8cd6ebddc5d10ae48d1f7                   1  credit_card   \n",
      "103783  4198c92e06d92792e49f119f659e723e                   1  credit_card   \n",
      "103792  0f121110b75ef7c38c79d67833c49830                   1  credit_card   \n",
      "\n",
      "        payment_installments  payment_value  \n",
      "160                       10        2027.16  \n",
      "167                       10        1002.73  \n",
      "235                        1        1302.42  \n",
      "247                       10        2288.31  \n",
      "359                       10        1586.47  \n",
      "...                      ...            ...  \n",
      "103622                    10        3044.12  \n",
      "103718                    10        3782.19  \n",
      "103733                     3        1134.44  \n",
      "103783                    10        1294.26  \n",
      "103792                    10         956.86  \n",
      "\n",
      "[1803 rows x 5 columns]\n",
      "\n"
     ]
    }
   ],
   "source": [
    "#Assesing data\n",
    "# Fungsi untuk mencari outlier menggunakan Z-Score\n",
    "def find_outliers_zscore(data, column, threshold=3):\n",
    "    mean = np.mean(data[column])\n",
    "    std_dev = np.std(data[column])\n",
    "    z_scores = (data[column] - mean) / std_dev\n",
    "    return data[np.abs(z_scores) > threshold]\n",
    "\n",
    "# Mencari outlier untuk kolom yang relevan di setiap DataFrame\n",
    "outliers_info_zscore = {}\n",
    "\n",
    "# Mencari outlier di Order Items\n",
    "outliers_info_zscore['Order Items - Price'] = find_outliers_zscore(order_items, 'price')\n",
    "outliers_info_zscore['Order Items - Freight Value'] = find_outliers_zscore(order_items, 'freight_value')\n",
    "\n",
    "# Mencari outlier di Order Reviews\n",
    "outliers_info_zscore['Order Reviews - Review Score'] = find_outliers_zscore(order_reviews_dataset, 'review_score')\n",
    "\n",
    "# Mencari outlier di Order Payments\n",
    "outliers_info_zscore['Order Payments - Payment Value'] = find_outliers_zscore(order_payments, 'payment_value')\n",
    "\n",
    "# Menampilkan outlier yang ditemukan\n",
    "for name, outliers in outliers_info_zscore.items():\n",
    "    print(f\"Outliers di {name}:\\n{outliers}\\n\")"
   ]
  },
  {
   "cell_type": "markdown",
   "metadata": {
    "id": "7dtxhAPrkhPL"
   },
   "source": [
    "**Insight:**\n",
    "- Data Kategori Produk: Terdapat nilai kosong dalam beberapa kolom, yang menunjukkan bahwa tidak semua produk memiliki kategori yang terdefinisi. Ini dapat memengaruhi analisis penjualan per kategori.\n",
    "\n",
    "- Data Produk: Beberapa nilai kosong terdapat di kolom deskripsi produk, yang dapat mengurangi kualitas informasi. Hal ini penting untuk ditangani agar analisis penjualan produk dapat dilakukan dengan akurat.\n",
    "\n",
    "- Data Penjual: Nilai kosong di kolom lokasi atau informasi penjual lainnya dapat menghambat analisis performa penjual. Perbaikan data ini diperlukan untuk mendapatkan gambaran yang lebih jelas mengenai kinerja masing-masing penjual.\n",
    "\n",
    "- Order Items - Price: Dengan menggunakan Z-Score, saya menemukan beberapa harga yang tergolong outlier dalam dataset. Hal ini dapat menunjukkan adanya transaksi dengan harga yang sangat tinggi atau rendah dibandingkan dengan harga rata-rata, yang perlu diteliti lebih lanjut untuk memastikan akurasi data.\n",
    "\n",
    "- Order Items - Freight Value: Outlier juga terdeteksi dalam nilai pengiriman. Ini bisa disebabkan oleh biaya pengiriman yang tidak wajar, yang dapat memengaruhi analisis biaya dan profitabilitas pengiriman produk.\n",
    "\n",
    "- Order Reviews - Review Score: Outlier dalam skor ulasan menunjukkan adanya beberapa ulasan yang sangat tinggi atau rendah. Ini dapat memberikan wawasan penting mengenai produk tertentu yang mungkin mengalami masalah kualitas atau kepuasan pelanggan yang sangat baik.\n",
    "\n",
    "- Order Payments - Payment Value: Terdapat outlier dalam nilai pembayaran, yang mungkin menunjukkan transaksi besar yang tidak biasa atau kesalahan data. Penting untuk meneliti outlier ini untuk memahami pola pembayaran yang lebih baik dan untuk menjaga integritas data."
   ]
  },
  {
   "cell_type": "markdown",
   "metadata": {
    "id": "EhN5R4hr8DC1"
   },
   "source": [
    "### Cleaning Data"
   ]
  },
  {
   "cell_type": "code",
   "execution_count": 8,
   "metadata": {
    "id": "jVnYpprE9Evz"
   },
   "outputs": [
    {
     "name": "stdout",
     "output_type": "stream",
     "text": [
      "Missing Values di Products setelah pembersihan:\n",
      "product_id                    0\n",
      "product_category_name         0\n",
      "product_name_lenght           0\n",
      "product_description_lenght    0\n",
      "product_photos_qty            0\n",
      "product_weight_g              0\n",
      "product_length_cm             0\n",
      "product_height_cm             0\n",
      "product_width_cm              0\n",
      "dtype: int64 \n",
      "\n",
      "Missing Values di Orders setelah pembersihan:\n",
      "order_id                         0\n",
      "customer_id                      0\n",
      "order_status                     0\n",
      "order_purchase_timestamp         0\n",
      "order_approved_at                0\n",
      "order_delivered_carrier_date     0\n",
      "order_delivered_customer_date    0\n",
      "order_estimated_delivery_date    0\n",
      "dtype: int64 \n",
      "\n"
     ]
    },
    {
     "name": "stderr",
     "output_type": "stream",
     "text": [
      "C:\\Users\\Yusep fathul anwar\\AppData\\Local\\Temp\\ipykernel_8788\\1977928853.py:21: FutureWarning: Series.fillna with 'method' is deprecated and will raise in a future version. Use obj.ffill() or obj.bfill() instead.\n",
      "  orders['order_approved_at'].fillna(method='ffill', inplace=True)\n",
      "C:\\Users\\Yusep fathul anwar\\AppData\\Local\\Temp\\ipykernel_8788\\1977928853.py:22: FutureWarning: Series.fillna with 'method' is deprecated and will raise in a future version. Use obj.ffill() or obj.bfill() instead.\n",
      "  orders['order_delivered_carrier_date'].fillna(method='ffill', inplace=True)\n"
     ]
    },
    {
     "name": "stdout",
     "output_type": "stream",
     "text": [
      "Missing Values di Order Reviews setelah pembersihan:\n",
      "review_id                  0\n",
      "order_id                   0\n",
      "review_score               0\n",
      "review_comment_title       0\n",
      "review_comment_message     0\n",
      "review_creation_date       0\n",
      "review_answer_timestamp    0\n",
      "dtype: int64 \n",
      "\n",
      "Tipe Data di Orders setelah konversi:\n",
      "order_id                                 object\n",
      "customer_id                              object\n",
      "order_status                             object\n",
      "order_purchase_timestamp                 object\n",
      "order_approved_at                datetime64[ns]\n",
      "order_delivered_carrier_date     datetime64[ns]\n",
      "order_delivered_customer_date    datetime64[ns]\n",
      "order_estimated_delivery_date            object\n",
      "dtype: object\n",
      "Tipe Data di Products setelah konversi:\n",
      "product_id                     object\n",
      "product_category_name          object\n",
      "product_name_lenght           float64\n",
      "product_description_lenght    float64\n",
      "product_photos_qty            float64\n",
      "product_weight_g              float64\n",
      "product_length_cm             float64\n",
      "product_height_cm             float64\n",
      "product_width_cm              float64\n",
      "dtype: object\n",
      "Tipe Data di Order Reviews setelah konversi:\n",
      "review_id                  object\n",
      "order_id                   object\n",
      "review_score                int64\n",
      "review_comment_title       object\n",
      "review_comment_message     object\n",
      "review_creation_date       object\n",
      "review_answer_timestamp    object\n",
      "dtype: object\n"
     ]
    }
   ],
   "source": [
    "# Data Cleaning\n",
    "# Mengisi missing values\n",
    "products['product_category_name'].fillna(products['product_category_name'].mode()[0], inplace=True)\n",
    "products['product_name_lenght'].fillna(products['product_name_lenght'].mean(), inplace=True)\n",
    "products['product_description_lenght'].fillna(products['product_description_lenght'].mean(), inplace=True)\n",
    "products['product_photos_qty'].fillna(products['product_photos_qty'].mode()[0], inplace=True)\n",
    "products['product_weight_g'].fillna(products['product_weight_g'].mean(), inplace=True)\n",
    "products['product_length_cm'].fillna(products['product_length_cm'].mean(), inplace=True)\n",
    "products['product_height_cm'].fillna(products['product_height_cm'].mean(), inplace=True)\n",
    "products['product_width_cm'].fillna(products['product_width_cm'].mean(), inplace=True)\n",
    "\n",
    "# Memeriksa missing values setelah pembersihan\n",
    "print(\"Missing Values di Products setelah pembersihan:\")\n",
    "print(products.isnull().sum(), \"\\n\")\n",
    "\n",
    "# Data Cleaning pada Orders\n",
    "# Menghapus baris dengan missing values yang sangat banyak\n",
    "orders.dropna(subset=['order_delivered_customer_date'], inplace=True)\n",
    "\n",
    "# Mengisi missing values\n",
    "orders['order_approved_at'].fillna(method='ffill', inplace=True)\n",
    "orders['order_delivered_carrier_date'].fillna(method='ffill', inplace=True)\n",
    "\n",
    "# Memeriksa missing values setelah pembersihan\n",
    "print(\"Missing Values di Orders setelah pembersihan:\")\n",
    "print(orders.isnull().sum(), \"\\n\")\n",
    "\n",
    "# Data Cleaning pada Order Reviews\n",
    "# Mengisi missing values\n",
    "order_reviews_dataset['review_comment_title'].fillna(order_reviews_dataset['review_comment_title'].mode()[0], inplace=True)\n",
    "order_reviews_dataset['review_comment_message'].fillna(order_reviews_dataset['review_comment_message'].mode()[0], inplace=True)\n",
    "\n",
    "# Memeriksa missing values setelah pembersihan\n",
    "print(\"Missing Values di Order Reviews setelah pembersihan:\")\n",
    "print(order_reviews_dataset.isnull().sum(), \"\\n\")\n",
    "\n",
    "# Mengonversi tipe data\n",
    "# Mengonversi tipe data untuk Orders\n",
    "orders['order_approved_at'] = pd.to_datetime(orders['order_approved_at'], errors='coerce')\n",
    "orders['order_delivered_carrier_date'] = pd.to_datetime(orders['order_delivered_carrier_date'], errors='coerce')\n",
    "orders['order_delivered_customer_date'] = pd.to_datetime(orders['order_delivered_customer_date'], errors='coerce')\n",
    "\n",
    " # Memeriksa tipe data setelah konversi\n",
    "print(\"Tipe Data di Orders setelah konversi:\")\n",
    "print(orders.dtypes)\n",
    "\n",
    "print(\"Tipe Data di Products setelah konversi:\")\n",
    "print(products.dtypes)\n",
    "\n",
    "print(\"Tipe Data di Order Reviews setelah konversi:\")\n",
    "print(order_reviews_dataset.dtypes)\n",
    "\n",
    "\n",
    "\n",
    "\n",
    "\n"
   ]
  },
  {
   "cell_type": "code",
   "execution_count": 9,
   "metadata": {
    "id": "vRSwe_cIk-xs"
   },
   "outputs": [],
   "source": [
    "# Menyimpan DataFrame yang telah dibersihkan ke file CSV\n",
    "products.to_csv('products_cleaned.csv', index=False)  # Menyimpan products\n",
    "orders.to_csv('orders_cleaned.csv', index=False)      # Menyimpan orders\n",
    "order_reviews_dataset.to_csv('order_reviews_cleaned.csv', index=False)  # Menyimpan order reviews\n"
   ]
  },
  {
   "cell_type": "markdown",
   "metadata": {
    "id": "Q_5ejIqckiSP"
   },
   "source": [
    "**Insight:**\n",
    "- Pembersihan Data di Products: Saya berhasil mengisi nilai yang hilang dalam dataset produk dengan menggunakan metode yang sesuai, seperti nilai modus untuk kategori produk dan rata-rata untuk panjang, berat, dan dimensi produk. Hal ini dapat meningkatkan kualitas dataset dan meminimalkan potensi bias dalam analisis selanjutnya.\n",
    "\n",
    "- Pembersihan Data di Orders: Dalam dataset pesanan, Saya menghapus baris dengan nilai hilang yang signifikan, khususnya kolom tanggal pengiriman kepada pelanggan. Selain itu, Saya mengisi nilai yang hilang dengan metode forward fill untuk tanggal persetujuan dan pengiriman. Ini memastikan bahwa analisis waktu dan performa pengiriman tidak terpengaruh oleh data yang hilang.\n",
    "\n",
    "- Pembersihan Data di Order Reviews: Untuk dataset ulasan, Saya mengisi nilai yang hilang dengan modus dari kolom komentar judul dan pesan. Ini membantu menjaga konsistensi dan kelengkapan data ulasan, yang penting untuk analisis sentimen dan evaluasi kepuasan pelanggan.\n",
    "\n",
    "- Konversi Tipe Data: Saya juga mengonversi tipe data kolom tanggal di dataset pesanan menjadi tipe datetime, yang memungkinkan pemrosesan dan analisis waktu yang lebih efisien di masa mendatang. Dengan memastikan bahwa semua tipe data sesuai, saya dapat melakukan analisis lebih lanjut dengan lebih tepat.\n",
    "\n",
    "- Penyimpanan Data yang Telah Dibersihkan: Saya berhasil menyimpan DataFrame yang telah dibersihkan ke dalam file CSV terpisah untuk setiap dataset. Ini memungkinkan saya untuk memiliki salinan yang terorganisir dan siap pakai dari data yang telah dibersihkan. \n"
   ]
  },
  {
   "cell_type": "markdown",
   "metadata": {
    "id": "gp-Y6wU38DC1"
   },
   "source": [
    "## Exploratory Data Analysis (EDA)"
   ]
  },
  {
   "cell_type": "markdown",
   "metadata": {
    "id": "MW7WF2kr8DC1"
   },
   "source": [
    "### Explore Outlier dan Products\n"
   ]
  },
  {
   "cell_type": "code",
   "execution_count": 10,
   "metadata": {
    "id": "e9CQCZjk8DC2"
   },
   "outputs": [
    {
     "name": "stdout",
     "output_type": "stream",
     "text": [
      "Data Order Items setelah penghapusan outlier (harga):\n",
      "                           order_id  order_item_id  \\\n",
      "0  00010242fe8c5a6d1ba2dd792cb16214              1   \n",
      "1  00018f77f2f0320c557190d7a144bdd3              1   \n",
      "2  000229ec398224ef6ca0657da4fc703e              1   \n",
      "3  00024acbcdf0a6daa1e931b038114c75              1   \n",
      "4  00042b26cf59d7ce69dfabb4e55b4fd9              1   \n",
      "\n",
      "                         product_id                         seller_id  \\\n",
      "0  4244733e06e7ecb4970a6e2683c13e61  48436dade18ac8b2bce089ec2a041202   \n",
      "1  e5f2d52b802189ee658865ca93d83a8f  dd7ddc04e1b6c2c614352b383efe2d36   \n",
      "2  c777355d18b72b67abbeef9df44fd0fd  5b51032eddd242adc84c38acab88f23d   \n",
      "3  7634da152a4610f1595efa32f14722fc  9d7a1d34a5052409006425275ba1c2b4   \n",
      "4  ac6c3623068f30de03045865e4e10089  df560393f3a51e74553ab94004ba5c87   \n",
      "\n",
      "   shipping_limit_date   price  freight_value  \n",
      "0  2017-09-19 09:45:35   58.90          13.29  \n",
      "1  2017-05-03 11:05:13  239.90          19.93  \n",
      "2  2018-01-18 14:48:30  199.00          17.87  \n",
      "3  2018-08-15 10:10:18   12.99          12.79  \n",
      "4  2017-02-13 13:57:51  199.90          18.14  \n",
      "\n",
      "Data Order Items setelah penghapusan outlier (freight value):\n",
      "                           order_id  order_item_id  \\\n",
      "0  00010242fe8c5a6d1ba2dd792cb16214              1   \n",
      "1  00018f77f2f0320c557190d7a144bdd3              1   \n",
      "2  000229ec398224ef6ca0657da4fc703e              1   \n",
      "3  00024acbcdf0a6daa1e931b038114c75              1   \n",
      "4  00042b26cf59d7ce69dfabb4e55b4fd9              1   \n",
      "\n",
      "                         product_id                         seller_id  \\\n",
      "0  4244733e06e7ecb4970a6e2683c13e61  48436dade18ac8b2bce089ec2a041202   \n",
      "1  e5f2d52b802189ee658865ca93d83a8f  dd7ddc04e1b6c2c614352b383efe2d36   \n",
      "2  c777355d18b72b67abbeef9df44fd0fd  5b51032eddd242adc84c38acab88f23d   \n",
      "3  7634da152a4610f1595efa32f14722fc  9d7a1d34a5052409006425275ba1c2b4   \n",
      "4  ac6c3623068f30de03045865e4e10089  df560393f3a51e74553ab94004ba5c87   \n",
      "\n",
      "   shipping_limit_date   price  freight_value  \n",
      "0  2017-09-19 09:45:35   58.90          13.29  \n",
      "1  2017-05-03 11:05:13  239.90          19.93  \n",
      "2  2018-01-18 14:48:30  199.00          17.87  \n",
      "3  2018-08-15 10:10:18   12.99          12.79  \n",
      "4  2017-02-13 13:57:51  199.90          18.14  \n",
      "\n",
      "Data Order Payments setelah mengganti outlier dengan median:\n",
      "                           order_id  payment_sequential payment_type  \\\n",
      "0  b81ef226f3fe1789b1e8b2acac839d17                   1  credit_card   \n",
      "1  a9810da82917af2d9aefd1278f1dcfa0                   1  credit_card   \n",
      "2  25e8ea4e93396b6fa0d3dd708e76c1bd                   1  credit_card   \n",
      "3  ba78997921bbcdc1373bb41e913ab953                   1  credit_card   \n",
      "4  42fdf880ba16b47b59251dd489d4441a                   1  credit_card   \n",
      "\n",
      "   payment_installments  payment_value  \n",
      "0                     8          99.33  \n",
      "1                     1          24.39  \n",
      "2                     1          65.71  \n",
      "3                     8         107.78  \n",
      "4                     2         128.45  \n"
     ]
    }
   ],
   "source": [
    "#Exploratory data anlysys (EDA)\n",
    "# Data Cleaning\n",
    "# Menghapus outlier\n",
    "def remove_outliers(data, column, threshold=3):\n",
    "    mean = np.mean(data[column])\n",
    "    std_dev = np.std(data[column])\n",
    "    z_scores = (data[column] - mean) / std_dev\n",
    "    return data[np.abs(z_scores) <= threshold]\n",
    "\n",
    "# Menghapus outlier dari Order Items\n",
    "order_items_cleaned_price = remove_outliers(order_items, 'price')\n",
    "order_items_cleaned_freight = remove_outliers(order_items, 'freight_value')\n",
    "\n",
    "# Mengganti outlier dengan nilai median\n",
    "def replace_outliers_with_median(data, column, threshold=3):\n",
    "    median = np.median(data[column])\n",
    "    mean = np.mean(data[column])\n",
    "    std_dev = np.std(data[column])\n",
    "    z_scores = (data[column] - mean) / std_dev\n",
    "    data.loc[np.abs(z_scores) > threshold, column] = median\n",
    "    return data\n",
    "\n",
    "# Mengganti outlier pada nilai pembayaran di Order Payments\n",
    "order_payments_cleaned = replace_outliers_with_median(order_payments, 'payment_value')\n",
    "\n",
    "\n",
    "# Tampilkan data yang sudah dibersihkan\n",
    "print(\"Data Order Items setelah penghapusan outlier (harga):\")\n",
    "print(order_items_cleaned_price.head())\n",
    "print(\"\\nData Order Items setelah penghapusan outlier (freight value):\")\n",
    "print(order_items_cleaned_freight.head())\n",
    "print(\"\\nData Order Payments setelah mengganti outlier dengan median:\")\n",
    "print(order_payments_cleaned.head())\n",
    "\n",
    "\n"
   ]
  },
  {
   "cell_type": "code",
   "execution_count": 11,
   "metadata": {},
   "outputs": [
    {
     "name": "stdout",
     "output_type": "stream",
     "text": [
      "Sample of Products Dataset:\n",
      "                          product_id  product_category_name  \\\n",
      "0  1e9e8ef04dbcff4541ed26657ea517e5             perfumaria   \n",
      "1  3aa071139cb16b67ca9e5dea641aaa2f                  artes   \n",
      "2  96bd76ec8810374ed1b65e291975717f          esporte_lazer   \n",
      "3  cef67bcfe19066a932b7673e239eb23d                  bebes   \n",
      "4  9dc1a7de274444849c219cff195d0b71  utilidades_domesticas   \n",
      "\n",
      "   product_name_lenght  product_description_lenght  product_photos_qty  \\\n",
      "0                 40.0                       287.0                 1.0   \n",
      "1                 44.0                       276.0                 1.0   \n",
      "2                 46.0                       250.0                 1.0   \n",
      "3                 27.0                       261.0                 1.0   \n",
      "4                 37.0                       402.0                 4.0   \n",
      "\n",
      "   product_weight_g  product_length_cm  product_height_cm  product_width_cm  \n",
      "0             225.0               16.0               10.0              14.0  \n",
      "1            1000.0               30.0               18.0              20.0  \n",
      "2             154.0               18.0                9.0              15.0  \n",
      "3             371.0               26.0                4.0              26.0  \n",
      "4             625.0               20.0               17.0              13.0   \n",
      "\n",
      "Products Dataset Info:\n",
      "\n",
      "<class 'pandas.core.frame.DataFrame'>\n",
      "RangeIndex: 32951 entries, 0 to 32950\n",
      "Data columns (total 9 columns):\n",
      " #   Column                      Non-Null Count  Dtype  \n",
      "---  ------                      --------------  -----  \n",
      " 0   product_id                  32951 non-null  object \n",
      " 1   product_category_name       32951 non-null  object \n",
      " 2   product_name_lenght         32951 non-null  float64\n",
      " 3   product_description_lenght  32951 non-null  float64\n",
      " 4   product_photos_qty          32951 non-null  float64\n",
      " 5   product_weight_g            32951 non-null  float64\n",
      " 6   product_length_cm           32951 non-null  float64\n",
      " 7   product_height_cm           32951 non-null  float64\n",
      " 8   product_width_cm            32951 non-null  float64\n",
      "dtypes: float64(7), object(2)\n",
      "memory usage: 2.3+ MB\n",
      "Descriptive Statistics of Products Dataset:\n",
      "        product_name_lenght  product_description_lenght  product_photos_qty  \\\n",
      "count         32951.000000                32951.000000        32951.000000   \n",
      "mean             48.476949                  771.495285            2.166975   \n",
      "std              10.150458                  629.208849            1.728063   \n",
      "min               5.000000                    4.000000            1.000000   \n",
      "25%              42.000000                  344.000000            1.000000   \n",
      "50%              51.000000                  604.000000            1.000000   \n",
      "75%              57.000000                  961.000000            3.000000   \n",
      "max              76.000000                 3992.000000           20.000000   \n",
      "\n",
      "       product_weight_g  product_length_cm  product_height_cm  \\\n",
      "count      32951.000000       32951.000000       32951.000000   \n",
      "mean        2276.472488          30.815078          16.937661   \n",
      "std         4281.908773          16.913945          13.637140   \n",
      "min            0.000000           7.000000           2.000000   \n",
      "25%          300.000000          18.000000           8.000000   \n",
      "50%          700.000000          25.000000          13.000000   \n",
      "75%         1900.000000          38.000000          21.000000   \n",
      "max        40425.000000         105.000000         105.000000   \n",
      "\n",
      "       product_width_cm  \n",
      "count      32951.000000  \n",
      "mean          23.196728  \n",
      "std           12.078681  \n",
      "min            6.000000  \n",
      "25%           15.000000  \n",
      "50%           20.000000  \n",
      "75%           30.000000  \n",
      "max          118.000000   \n",
      "\n",
      "Unique Product Categories:\n",
      " product_category_name\n",
      "cama_mesa_banho                  3639\n",
      "esporte_lazer                    2867\n",
      "moveis_decoracao                 2657\n",
      "beleza_saude                     2444\n",
      "utilidades_domesticas            2335\n",
      "                                 ... \n",
      "fashion_roupa_infanto_juvenil       5\n",
      "casa_conforto_2                     5\n",
      "pc_gamer                            3\n",
      "seguros_e_servicos                  2\n",
      "cds_dvds_musicais                   1\n",
      "Name: count, Length: 73, dtype: int64 \n",
      "\n"
     ]
    }
   ],
   "source": [
    "# Melihat beberapa baris pertama dari dataset\n",
    "print(\"Sample of Products Dataset:\\n\", products.head(), \"\\n\")\n",
    "\n",
    "# Melihat informasi umum dari dataset\n",
    "print(\"Products Dataset Info:\\n\")\n",
    "products.info()\n",
    "\n",
    "# Melihat statistik deskriptif\n",
    "print(\"Descriptive Statistics of Products Dataset:\\n\", products.describe(), \"\\n\")\n",
    "\n",
    "# Melihat distribusi kategori produk (jika ada kolom yang relevan)\n",
    "if 'product_category_name' in products.columns:\n",
    "    print(\"Unique Product Categories:\\n\", products['product_category_name'].value_counts(), \"\\n\")\n"
   ]
  },
  {
   "cell_type": "markdown",
   "metadata": {
    "id": "th_Lzl2Fkj9O"
   },
   "source": [
    "**Insight:**\n",
    "- Penghapusan dan Penggantian Outlier: Saya telah menghapus outlier dari kolom 'price' dan 'freight_value' di dataset Order Items serta mengganti outlier pada kolom 'payment_value' di dataset Order Payments dengan nilai median. Ini penting untuk memastikan bahwa analisis saya tidak dipengaruhi oleh nilai ekstrem yang dapat mendistorsi hasil.\n",
    "\n",
    "- Dataset berisi beberapa kolom penting seperti product_id, product_category_name, dan atribut lainnya yang menggambarkan spesifikasi produk.\n",
    "\n",
    "- Informasi mengenai tipe data dan jumlah nilai non-null membantu mendeteksi adanya missing values atau tipe data yang perlu diperbaiki.\n",
    "\n",
    "- Descriptive statistics memberikan ringkasan yang penting mengenai kolom numerik, memungkinkan identifikasi outlier atau anomali.\n",
    "\n",
    "- Informasi mengenai kategori produk yang dominan di dalam dataset, sehingga dapat mengarahkan fokus analisis ke kategori-kategori yang penting.\n",
    "\n",
    "\n",
    "\n"
   ]
  },
  {
   "cell_type": "markdown",
   "metadata": {
    "id": "zsyZjqak8DC2"
   },
   "source": [
    "## Visualization & Explanatory Analysis"
   ]
  },
  {
   "cell_type": "markdown",
   "metadata": {
    "id": "HZxOiQ6n8DC2"
   },
   "source": [
    "### Pertanyaan 1: Metode pembayaran mana yang paling sering digunakan oleh pelanggan di marketplace ini?"
   ]
  },
  {
   "cell_type": "code",
   "execution_count": 12,
   "metadata": {
    "id": "1swJUdAD8DC2"
   },
   "outputs": [
    {
     "data": {
      "image/png": "[encoded data removed]",
      "text/plain": [
       "<Figure size 800x600 with 1 Axes>"
      ]
     },
     "metadata": {},
     "output_type": "display_data"
    }
   ],
   "source": [
    "#Visualization & Explanatory Analysis\n",
    "#Pertanyaan bisnis no 1\n",
    "# Menghitung frekuensi metode pembayaran\n",
    "payment_type_counts = order_payments['payment_type'].value_counts()\n",
    "\n",
    "# Membuat bar chart\n",
    "plt.figure(figsize=(8, 6))\n",
    "payment_type_counts.plot(kind='bar', color='skyblue')\n",
    "plt.title('Distribusi Metode Pembayaran di Marketplace', fontsize=16)\n",
    "plt.xlabel('Metode Pembayaran', fontsize=12)\n",
    "plt.ylabel('Frekuensi', fontsize=12)\n",
    "plt.xticks(rotation=45)\n",
    "plt.grid(True, axis='y', linestyle='--', alpha=0.7)\n",
    "plt.tight_layout()\n",
    "plt.show()\n",
    "# Menghitung frekuensi metode pembayaran\n",
    "payment_type_counts = order_payments['payment_type'].value_counts()\n",
    "\n"
   ]
  },
  {
   "cell_type": "markdown",
   "metadata": {
    "id": "DgHI7CiU8DC2"
   },
   "source": [
    "### Pertanyaan 2: Bagaimana tren pendapatan bulanan di marketplace selama tahun 2017?"
   ]
  },
  {
   "cell_type": "code",
   "execution_count": 13,
   "metadata": {
    "id": "Go0lCsvO8DC2"
   },
   "outputs": [
    {
     "data": {
      "image/png": "[encoded data removed]",
      "text/plain": [
       "<Figure size 1200x600 with 1 Axes>"
      ]
     },
     "metadata": {},
     "output_type": "display_data"
    }
   ],
   "source": [
    "##Visualization & Explanatory Analysis\n",
    "#Pertanyaan bisnis no 2\n",
    "\n",
    "# Menggabungkan dataset orders dengan order payments\n",
    "merged_data = pd.merge(orders, order_payments, on='order_id', how='left')\n",
    "\n",
    "# Mengubah kolom order_purchase_timestamp menjadi tipe datetime\n",
    "merged_data['order_purchase_timestamp'] = pd.to_datetime(merged_data['order_purchase_timestamp'])\n",
    "\n",
    "# Menghitung total pendapatan per bulan\n",
    "monthly_revenue = merged_data.resample('M', on='order_purchase_timestamp')['payment_value'].sum().reset_index()\n",
    "\n",
    "# Menyiapkan rentang bulan dari awal hingga akhir\n",
    "all_months = pd.date_range(start=monthly_revenue['order_purchase_timestamp'].min(),\n",
    "                            end=monthly_revenue['order_purchase_timestamp'].max(),\n",
    "                            freq='M')\n",
    "\n",
    "# Menggabungkan dengan total pendapatan per bulan untuk memastikan semua bulan ada\n",
    "monthly_revenue = monthly_revenue.set_index('order_purchase_timestamp').reindex(all_months, fill_value=0).reset_index()\n",
    "monthly_revenue.columns = ['order_purchase_timestamp', 'payment_value']\n",
    "\n",
    "# Memfilter untuk tahun 2017\n",
    "monthly_revenue_2017 = monthly_revenue[monthly_revenue['order_purchase_timestamp'].dt.year == 2017]\n",
    "\n",
    "# Membuat visualisasi line chart untuk total pendapatan per bulan di tahun 2017\n",
    "plt.figure(figsize=(12, 6))\n",
    "plt.plot(monthly_revenue_2017['order_purchase_timestamp'],\n",
    "         monthly_revenue_2017['payment_value'],\n",
    "         marker='o', color='green')\n",
    "plt.title('Total Pendapatan per Bulan di Marketplace (2017)', fontsize=18, fontweight='bold')\n",
    "plt.xlabel('Bulan', fontsize=12)\n",
    "plt.ylabel('Total Pendapatan (IDR)', fontsize=12)\n",
    "\n",
    "# Mengatur format angka di sumbu Y\n",
    "plt.yticks(ticks=plt.yticks()[0], labels=[f'IDR {int(y):,}' for y in plt.yticks()[0]])\n",
    "\n",
    "# Mengatur tampilan sumbu X\n",
    "plt.xticks(monthly_revenue_2017['order_purchase_timestamp'],\n",
    "           monthly_revenue_2017['order_purchase_timestamp'].dt.strftime('%B'), rotation=45)\n",
    "plt.grid(visible=True, linestyle='--', alpha=0.7)\n",
    "plt.tight_layout()\n",
    "plt.show()\n"
   ]
  },
  {
   "cell_type": "markdown",
   "metadata": {
    "id": "_0-36BDLklRg"
   },
   "source": [
    "**Insight:**\n",
    "\n",
    "Pertanyaan 1\n",
    "- Analisis Metode Pembayaran: Saya melakukan analisis frekuensi metode pembayaran yang digunakan oleh pelanggan di marketplace ini. Dengan visualisasi bar chart, saya dapat dengan jelas melihat seberapa banyak masing-masing metode pembayaran digunakan.\n",
    "\n",
    "- Identifikasi Metode Populer: Dari hasil analisis, saya menemukan bahwa metode pembayaran tertentu memiliki frekuensi penggunaan yang lebih tinggi dibandingkan yang lain. Ini menunjukkan preferensi pelanggan terhadap metode tersebut dan memberikan gambaran tentang kebiasaan belanja mereka.\n",
    "\n",
    "Pertanyaan 2\n",
    "- Analisis Pendapatan Bulanan: Saya menggabungkan dataset orders dengan order_payments untuk menghitung total pendapatan per bulan di marketplace selama tahun 2017. Dengan menggunakan teknik resampling, saya dapat memvisualisasikan tren pendapatan dari waktu ke waktu.\n",
    "\n",
    "- Identifikasi Tren Musiman: Dari visualisasi line chart yang dihasilkan, saya dapat melihat pola pendapatan bulanan. Ini membantu saya memahami apakah ada fluktuasi pendapatan yang mungkin terkait dengan periode tertentu, seperti promosi, hari raya, atau peristiwa khusus lainnya.\n",
    "\n",
    "- Rekomendasi Strategi Pemasaran: Berdasarkan analisis ini, saya merekomendasikan untuk mengembangkan strategi pemasaran yang lebih baik pada bulan-bulan dengan pendapatan rendah, serta meningkatkan kampanye promosi selama bulan-bulan dengan pendapatan tinggi. Hal ini dapat membantu meningkatkan pendapatan secara keseluruhan dan memaksimalkan potensi penjualan di marketplace."
   ]
  },
  {
   "cell_type": "markdown",
   "metadata": {
    "id": "9y4VUsmcYNZ5"
   },
   "source": [
    "## Analisis Lanjutan (Opsional)"
   ]
  },
  {
   "cell_type": "markdown",
   "metadata": {
    "id": "_WeHlCeX8DC2"
   },
   "source": [
    "## Conclusion"
   ]
  },
  {
   "cell_type": "markdown",
   "metadata": {
    "id": "ZTcyR48Y8DC2"
   },
   "source": [
    "- Conclution pertanyaan 1 : Metode Pembayaran Mana yang Paling Sering Digunakan oleh Pelanggan di Marketplace Ini?\n",
    "\n",
    "    Dari analisis distribusi metode pembayaran di marketplace, saya menemukan bahwa metode pembayaran yang paling sering digunakan adalah credit card. Di sisi lain, debit card tercatat sebagai metode yang paling sedikit digunakan oleh pelanggan. Selain itu, terdapat 0% transaksi yang tidak diketahui. Temuan ini menunjukkan bahwa pelanggan lebih memilih menggunakan credit card untuk transaksi mereka, mungkin karena faktor keamanan, kemudahan, atau manfaat yang ditawarkan oleh kartu kredit. Pemahaman ini penting bagi marketplace untuk mengoptimalkan pengalaman pengguna, misalnya dengan memberikan promosi khusus untuk penggunaan credit card dan meningkatkan opsi keamanan pada metode pembayaran ini.\n",
    "\n",
    "\n",
    "- Conclution pertanyaan 2 : Bagaimana Tren Pendapatan Bulanan di Marketplace pada Tahun 2017?\n",
    "\n",
    "    Analisis terhadap total pendapatan bulanan menunjukkan tren yang meningkat sepanjang tahun 2017. Pendapatan terendah tercatat pada bulan Januari, sementara bulan November mencatat pendapatan tertinggi. Peningkatan pendapatan menjelang akhir tahun ini dapat dihubungkan dengan berbagai faktor, seperti promosi musim liburan atau peningkatan belanja pelanggan menjelang akhir tahun. Oleh karena itu, strategi pemasaran yang lebih tajam dan penawaran khusus dapat diimplementasikan pada bulan-bulan awal untuk meningkatkan penjualan, terutama di bulan Januari yang menunjukkan angka terendah."
   ]
  },
  {
   "cell_type": "markdown",
   "metadata": {},
   "source": []
  }
 ],
 "metadata": {
  "colab": {
   "provenance": []
  },
  "kernelspec": {
   "display_name": "base",
   "language": "python",
   "name": "python3"
  },
  "language_info": {
   "codemirror_mode": {
    "name": "ipython",
    "version": 3
   },
   "file_extension": ".py",
   "mimetype": "text/x-python",
   "name": "python",
   "nbconvert_exporter": "python",
   "pygments_lexer": "ipython3",
   "version": "3.11.7"
  }
 },
 "nbformat": 4,
 "nbformat_minor": 4
}
